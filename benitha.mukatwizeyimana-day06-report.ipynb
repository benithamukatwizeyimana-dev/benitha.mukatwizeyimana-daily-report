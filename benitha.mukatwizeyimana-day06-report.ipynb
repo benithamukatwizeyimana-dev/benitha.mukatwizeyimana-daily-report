{
 "cells": [
  {
   "cell_type": "markdown",
   "id": "a51cf7f9-12f7-4705-b11e-ba6c6e6340e3",
   "metadata": {},
   "source": [
    "## Flow control"
   ]
  },
  {
   "cell_type": "code",
   "execution_count": 1,
   "id": "25c2d26a-dba7-4102-80e8-a33ca70363f1",
   "metadata": {},
   "outputs": [
    {
     "name": "stdout",
     "output_type": "stream",
     "text": [
      "72\n"
     ]
    }
   ],
   "source": [
    "a = 72\n",
    "print(a)"
   ]
  },
  {
   "cell_type": "markdown",
   "id": "48fcd777-a7e0-412c-b9b5-384d65ef5cca",
   "metadata": {},
   "source": [
    "```python\n",
    " if ....... :\n",
    "instruction 1 ......\n",
    "```"
   ]
  },
  {
   "cell_type": "code",
   "execution_count": 10,
   "id": "7625594d-7561-41b3-879d-472adfb8eede",
   "metadata": {},
   "outputs": [
    {
     "name": "stdout",
     "output_type": "stream",
     "text": [
      "We do not have it\n"
     ]
    }
   ],
   "source": [
    "a = 27\n",
    "#print(a)\n",
    "if (a > 29):\n",
    "    print(\"We have it\")\n",
    "else:\n",
    "    print(\"We do not have it\")"
   ]
  },
  {
   "cell_type": "markdown",
   "id": "68f00004-ff8f-4ec2-9c58-97a399a0247f",
   "metadata": {},
   "source": [
    "## if...else"
   ]
  },
  {
   "cell_type": "markdown",
   "id": "b49b0003-f165-4af1-92ec-2fc129c3896b",
   "metadata": {},
   "source": [
    "\n",
    "\n",
    "```python\n",
    "if ....... :\n",
    "instruction 1 ......\n",
    "```"
   ]
  },
  {
   "cell_type": "code",
   "execution_count": 8,
   "id": "90676cf8-f635-4b55-9262-f9bdbe961bfe",
   "metadata": {},
   "outputs": [
    {
     "name": "stdout",
     "output_type": "stream",
     "text": [
      "We have it\n"
     ]
    }
   ],
   "source": [
    "if (a > 29):\n",
    "    print(\"We have it\")\n",
    "else:\n",
    "    print(\"We do not have it\")"
   ]
  },
  {
   "cell_type": "markdown",
   "id": "c560817b-bd0c-429f-9d70-cc801c82fb61",
   "metadata": {},
   "source": [
    "```python\n",
    "## \"if\"...\"else\"\n",
    "if ....... :\n",
    "instruction 1 ......"
   ]
  },
  {
   "cell_type": "markdown",
   "id": "105b7706-6a61-4d7c-87c1-77c61a42aaf2",
   "metadata": {},
   "source": [
    "## if ... elseif ...else"
   ]
  },
  {
   "cell_type": "code",
   "execution_count": 23,
   "id": "4b54e933-437f-49b5-9661-5f460a25cb39",
   "metadata": {},
   "outputs": [
    {
     "name": "stdout",
     "output_type": "stream",
     "text": [
      "x is zero\n"
     ]
    }
   ],
   "source": [
    "\n",
    "x = 0\n",
    "if x > 0:\n",
    "     print(\"x is positive\")\n",
    "elif x < 0:\n",
    "    print(\"x is negative\")\n",
    "else:\n",
    "\n",
    "    print(\"x is zero\")"
   ]
  },
  {
   "cell_type": "code",
   "execution_count": 25,
   "id": "d47c27f5-0f17-4089-b2ab-32bc0c7e9b8e",
   "metadata": {},
   "outputs": [
    {
     "name": "stdout",
     "output_type": "stream",
     "text": [
      "a is greater than b\n",
      "The diff is ....\n"
     ]
    }
   ],
   "source": [
    "a = 15\n",
    "b = 10\n",
    "if a > b:\n",
    "    print(\"a is greater than b\")\n",
    "    if (a-b >5):\n",
    "        print(\"The diff is ....\")\n",
    "    else:\n",
    "        print(\"The diff is ....\")\n",
    "else:\n",
    "    print(\"b is greater than a\")\n"
   ]
  },
  {
   "cell_type": "markdown",
   "id": "bb84523e-1499-4b9d-a1f1-dff3d9f0ce09",
   "metadata": {},
   "source": [
    "## Solving Quadratic equation"
   ]
  },
  {
   "cell_type": "code",
   "execution_count": 32,
   "id": "0c49be20-beed-44ad-8fbc-d581b90e077f",
   "metadata": {},
   "outputs": [
    {
     "name": "stdin",
     "output_type": "stream",
     "text": [
      "Enter the value of a 1\n",
      "Enter the value of b 5\n",
      "Enter the value of c 6\n"
     ]
    },
    {
     "name": "stdout",
     "output_type": "stream",
     "text": [
      "Two solutions: -2.0 and -3.0\n"
     ]
    }
   ],
   "source": [
    "import math\n",
    "a = float(input(\"Enter the value of a\"))\n",
    "b = float(input (\"Enter the value of b\"))\n",
    "c = float(input(\"Enter the value of c\"))\n",
    "\n",
    "discriminant = b**2 - 4*a*c\n",
    "if discriminant < 0:\n",
    "    print(\"No solution\")\n",
    "elif discriminant == 0:\n",
    "    x = -b / (2*a)\n",
    "    print(\"One solution\", x)\n",
    "else:\n",
    "\n",
    "    x1 = (-b + math.sqrt(discriminant)) / (2*a)\n",
    "    x2 = (-b - math.sqrt(discriminant)) / (2*a)\n",
    "    print(\"Two solutions:\", x1, \"and\", x2)"
   ]
  },
  {
   "cell_type": "markdown",
   "id": "b8f2ff26-63e6-47cf-81c8-2c62a2e04c47",
   "metadata": {},
   "source": [
    "# Loops"
   ]
  },
  {
   "cell_type": "markdown",
   "id": "f347fb2a-dda7-4e89-8635-a682ac2aeddf",
   "metadata": {},
   "source": [
    "## While"
   ]
  },
  {
   "cell_type": "markdown",
   "id": "d7570209-4399-4123-8a48-02cc215da22b",
   "metadata": {
    "jp-MarkdownHeadingCollapsed": true
   },
   "source": [
    "\n",
    "```python\n",
    "\n",
    "Initialize increment variable\n",
    "while condition:\n",
    "block_of-instructions\n",
    "```"
   ]
  },
  {
   "cell_type": "code",
   "execution_count": 33,
   "id": "ab09848f-9da0-4ec2-9fab-a8767f002107",
   "metadata": {},
   "outputs": [
    {
     "name": "stdout",
     "output_type": "stream",
     "text": [
      "The value of i is 1\n",
      "The value of i is 2\n",
      "The value of i is 3\n",
      "The value of i is 4\n",
      "The value of i is 5\n",
      "The value of i is 6\n",
      "The value of i is 7\n",
      "The value of i is 8\n",
      "The value of i is 9\n"
     ]
    }
   ],
   "source": [
    "i = 1\n",
    "while (i < 10):\n",
    "    print(\"The value of i is\", i)\n",
    "    i = i + 1"
   ]
  },
  {
   "cell_type": "markdown",
   "id": "88d695ab-82bc-49f7-afd4-78da1273709f",
   "metadata": {},
   "source": [
    "## for\n"
   ]
  },
  {
   "cell_type": "markdown",
   "id": "3af7a73a-c4e8-4ff0-9d72-65dce34ed838",
   "metadata": {},
   "source": [
    "```python\n",
    "for element in sequence_of_value:\n",
    "block instruction\n",
    "```"
   ]
  },
  {
   "cell_type": "code",
   "execution_count": 36,
   "id": "c80d11d5-08c0-4b1c-8040-e13a92052941",
   "metadata": {},
   "outputs": [
    {
     "name": "stdout",
     "output_type": "stream",
     "text": [
      "0\n",
      "1\n",
      "2\n",
      "3\n",
      "4\n",
      "5\n",
      "6\n",
      "7\n",
      "8\n",
      "9\n"
     ]
    }
   ],
   "source": [
    "n = 10\n",
    "for i in range(n):\n",
    "    print(i)"
   ]
  },
  {
   "cell_type": "code",
   "execution_count": 38,
   "id": "1095b77f-3be3-41ea-bc28-83c5bd4dff55",
   "metadata": {},
   "outputs": [
    {
     "name": "stdout",
     "output_type": "stream",
     "text": [
      "Try again\n",
      "We found it\n",
      "Try again\n",
      "Try again\n"
     ]
    }
   ],
   "source": [
    "list_fr = [3, 5, \"Hello\", 98]\n",
    "for i in list_fr:\n",
    "    if i ==5:\n",
    "        print(\"We found it\")\n",
    "    else:\n",
    "        print(\"Try again\")"
   ]
  },
  {
   "cell_type": "code",
   "execution_count": 42,
   "id": "70a31d5f-c1b4-422a-bcc3-ed4dd2378eff",
   "metadata": {},
   "outputs": [
    {
     "name": "stdout",
     "output_type": "stream",
     "text": [
      "The letter H  is a consonant\n",
      "The letter e is a vowel\n",
      "The letter l  is a consonant\n",
      "The letter l  is a consonant\n",
      "The letter o is a vowel\n",
      "The letter ,  is a consonant\n",
      "This is likely a  space\n",
      "The letter W  is a consonant\n",
      "The letter o is a vowel\n",
      "The letter r  is a consonant\n",
      "The letter l  is a consonant\n",
      "The letter d  is a consonant\n",
      "The letter .  is a consonant\n"
     ]
    }
   ],
   "source": [
    "#sentence = \"This is the second class in the new AIMS building.\"\n",
    "sentence = \"Hello, World.\"\n",
    "\n",
    "for letter in sentence:\n",
    "    if letter in \"AEIOUYaeiouy\":\n",
    "        print(\"The letter\", letter, \"is a vowel\")\n",
    "    elif letter == \" \":\n",
    "        print(\"This is likely a  space\")\n",
    "    else:\n",
    "        print(\"The letter\", letter, \" is a consonant\")"
   ]
  },
  {
   "cell_type": "code",
   "execution_count": null,
   "id": "1a600b83-0964-49f0-b5e0-59b938d82b61",
   "metadata": {},
   "outputs": [],
   "source": []
  }
 ],
 "metadata": {
  "kernelspec": {
   "display_name": "Python 3 (ipykernel)",
   "language": "python",
   "name": "python3"
  },
  "language_info": {
   "codemirror_mode": {
    "name": "ipython",
    "version": 3
   },
   "file_extension": ".py",
   "mimetype": "text/x-python",
   "name": "python",
   "nbconvert_exporter": "python",
   "pygments_lexer": "ipython3",
   "version": "3.13.5"
  }
 },
 "nbformat": 4,
 "nbformat_minor": 5
}
