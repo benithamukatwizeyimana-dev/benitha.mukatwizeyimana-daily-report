{
 "cells": [
  {
   "cell_type": "markdown",
   "id": "426486dd",
   "metadata": {
    "id": "426486dd"
   },
   "source": [
    "\n",
    "\n",
    "# Practical_1: Variables and Assignments"
   ]
  },
  {
   "cell_type": "markdown",
   "id": "52576c45-397f-4163-a1c4-c816136b1b95",
   "metadata": {
    "id": "9fb19f0d"
   },
   "source": [
    "----\n",
    "\n",
    "### Exercise 1:\n",
    "Declare a variable `x` and assign it the value `10`.\n",
    "\n",
    "```python\n",
    "# Exercise 1\n",
    "```"
   ]
  },
  {
   "cell_type": "code",
   "execution_count": 3,
   "id": "459a4765-b248-4803-951c-6f24aa2cdea7",
   "metadata": {},
   "outputs": [
    {
     "name": "stdout",
     "output_type": "stream",
     "text": [
      "10\n"
     ]
    },
    {
     "data": {
      "text/plain": [
       "int"
      ]
     },
     "execution_count": 3,
     "metadata": {},
     "output_type": "execute_result"
    }
   ],
   "source": [
    "x = 10\n",
    "print(x)\n",
    "type(x)"
   ]
  },
  {
   "cell_type": "markdown",
   "id": "21bf9c22-de23-4168-bcd6-9af66a2e71af",
   "metadata": {
    "id": "9fb19f0d"
   },
   "source": [
    "---\n",
    "\n",
    "### Exercise 2:\n",
    "Assign the value `True` to a variable called `is_valid`.\n",
    "\n",
    "```python\n",
    "# Exercise 2\n",
    "```\n",
    "\n",
    "---"
   ]
  },
  {
   "cell_type": "code",
   "execution_count": 4,
   "id": "f5cf020c-5da9-443d-9cd5-8199c1dc2f5c",
   "metadata": {},
   "outputs": [
    {
     "name": "stdout",
     "output_type": "stream",
     "text": [
      "True\n"
     ]
    },
    {
     "data": {
      "text/plain": [
       "bool"
      ]
     },
     "execution_count": 4,
     "metadata": {},
     "output_type": "execute_result"
    }
   ],
   "source": [
    "is_valid = True\n",
    "print(is_valid)\n",
    "type(is_valid)"
   ]
  },
  {
   "cell_type": "markdown",
   "id": "6d635f57-4164-434f-87c3-a0242eb1cdc4",
   "metadata": {
    "id": "9fb19f0d"
   },
   "source": [
    "### Exercise 3:\n",
    "Create a string variable `name` with the value \"Python Programming\".\n",
    "\n",
    "```python\n",
    "# Exercise 3\n",
    "```"
   ]
  },
  {
   "cell_type": "code",
   "execution_count": 7,
   "id": "ab667058-1e20-4403-bab7-b5393f6fe7b6",
   "metadata": {},
   "outputs": [
    {
     "name": "stdout",
     "output_type": "stream",
     "text": [
      "Python Programming\n"
     ]
    },
    {
     "data": {
      "text/plain": [
       "str"
      ]
     },
     "execution_count": 7,
     "metadata": {},
     "output_type": "execute_result"
    }
   ],
   "source": [
    "name = \"Python Programming\"\n",
    "print(name)\n",
    "type(name)"
   ]
  },
  {
   "cell_type": "markdown",
   "id": "b4183a2c-31f1-4e2d-879f-bd1172727b73",
   "metadata": {
    "id": "9fb19f0d"
   },
   "source": [
    "---\n",
    "\n",
    "### Exercise 4:\n",
    "Assign the result of `5 + 3` to a variable `sum_result`.\n",
    "\n",
    "```python\n",
    "# Exercise 4\n",
    "```"
   ]
  },
  {
   "cell_type": "code",
   "execution_count": 53,
   "id": "94ac9a1a-e79f-4c65-ab9b-4b6ce71b4f53",
   "metadata": {},
   "outputs": [
    {
     "name": "stdout",
     "output_type": "stream",
     "text": [
      "8\n"
     ]
    }
   ],
   "source": [
    "sum_result = 5 + 3\n",
    "print(sum_result)"
   ]
  },
  {
   "cell_type": "markdown",
   "id": "1af0d456-159b-44d2-a322-edb1ba5efada",
   "metadata": {
    "id": "9fb19f0d"
   },
   "source": [
    "---\n",
    "\n",
    "### Exercise 5:\n",
    "Assign multiple variables in one line: `a = 5`, `b = 10`, `c = 15`.\n",
    "\n",
    "```python\n",
    "# Exercise 5\n",
    "```"
   ]
  },
  {
   "cell_type": "code",
   "execution_count": 11,
   "id": "1a91ebe1-ed73-488c-9d3b-56186e82ea2b",
   "metadata": {},
   "outputs": [
    {
     "name": "stdout",
     "output_type": "stream",
     "text": [
      "5 10 15\n"
     ]
    }
   ],
   "source": [
    "a, b, c = 5, 10, 15\n",
    "print(a,b,c)"
   ]
  },
  {
   "cell_type": "markdown",
   "id": "2e85ca2e-1fe9-4430-b767-46feccd2537f",
   "metadata": {
    "id": "9fb19f0d"
   },
   "source": [
    "---\n",
    "\n",
    "### Exercise 6:\n",
    "Assign the value of one variable `x` to another variable `y`.\n",
    "\n",
    "```python\n",
    "# Exercise 6\n",
    "```"
   ]
  },
  {
   "cell_type": "code",
   "execution_count": 55,
   "id": "1b6ae910-9a48-4fcc-85cd-b937e9704ea7",
   "metadata": {},
   "outputs": [
    {
     "name": "stdout",
     "output_type": "stream",
     "text": [
      "2\n"
     ]
    }
   ],
   "source": [
    "x = 2\n",
    "y = x\n",
    "print(y)"
   ]
  },
  {
   "cell_type": "markdown",
   "id": "2d076efb-5a74-4d65-bff3-0eb187baabd6",
   "metadata": {
    "id": "9fb19f0d"
   },
   "source": [
    "---\n",
    "\n",
    "### Exercise 7:\n",
    "Assign a floating-point number `9.8` to a variable `gravity`.\n",
    "\n",
    "```python\n",
    "# Exercise 7\n",
    "```"
   ]
  },
  {
   "cell_type": "code",
   "execution_count": 13,
   "id": "e69ca414-a327-4ec6-9204-6f75385ab475",
   "metadata": {},
   "outputs": [
    {
     "data": {
      "text/plain": [
       "float"
      ]
     },
     "execution_count": 13,
     "metadata": {},
     "output_type": "execute_result"
    }
   ],
   "source": [
    "gravity = 9.8\n",
    "type(gravity)"
   ]
  },
  {
   "cell_type": "markdown",
   "id": "64556caf-3bcd-4e0e-b4e2-dddc4320c378",
   "metadata": {
    "id": "9fb19f0d"
   },
   "source": [
    "---\n",
    "\n",
    "### Exercise 8:\n",
    "Create a variable `country` and assign it the string value of your favorite country.\n",
    "\n",
    "```python\n",
    "# Exercise 8\n",
    "```"
   ]
  },
  {
   "cell_type": "code",
   "execution_count": null,
   "id": "df25d881-596d-445a-8622-c79a16f1b6f6",
   "metadata": {},
   "outputs": [],
   "source": [
    "country = \"Rwanda\"\n"
   ]
  },
  {
   "cell_type": "markdown",
   "id": "4b644b3f-4b70-4f42-b382-e41aaaf767d5",
   "metadata": {
    "id": "9fb19f0d"
   },
   "source": [
    "---\n",
    "\n",
    "### Exercise 9:\n",
    "Change the value of variable `age` from `25` to `26` in two separate steps.\n",
    "\n",
    "```python\n",
    "# Exercise 9\n",
    "```"
   ]
  },
  {
   "cell_type": "code",
   "execution_count": 14,
   "id": "812f1c43-a463-449f-ac40-79d3d1ac32d5",
   "metadata": {},
   "outputs": [
    {
     "name": "stdout",
     "output_type": "stream",
     "text": [
      "26\n"
     ]
    }
   ],
   "source": [
    "age = 25\n",
    "age = 26\n",
    "print(age)"
   ]
  },
  {
   "cell_type": "markdown",
   "id": "3c3b52de-42e8-45ca-82bf-55837550b995",
   "metadata": {
    "id": "9fb19f0d"
   },
   "source": [
    "---\n",
    "\n",
    "### Exercise 10:\n",
    "Use one variable to store the result of subtracting two numbers `20 - 7`.\n",
    "\n",
    "```python\n",
    "# Exercise 10\n",
    "```"
   ]
  },
  {
   "cell_type": "code",
   "execution_count": 15,
   "id": "8bb8d9aa-7ea9-445c-84d4-207d3768ff86",
   "metadata": {},
   "outputs": [
    {
     "name": "stdout",
     "output_type": "stream",
     "text": [
      "13\n"
     ]
    }
   ],
   "source": [
    "k = 20 - 7\n",
    "print(k)"
   ]
  },
  {
   "cell_type": "markdown",
   "id": "bf877363-47be-4803-8da0-576ddc49cfea",
   "metadata": {
    "id": "9fb19f0d"
   },
   "source": [
    "---\n",
    "\n",
    "### Exercise 11:\n",
    "Assign an integer value and a floating-point value to two different variables.\n",
    "\n",
    "```python\n",
    "# Exercise 11\n",
    "```"
   ]
  },
  {
   "cell_type": "code",
   "execution_count": null,
   "id": "552b3932-d6b5-4638-9e6d-8860181e2cce",
   "metadata": {},
   "outputs": [],
   "source": [
    "x = 4\n",
    "y = 6.4\n"
   ]
  },
  {
   "cell_type": "markdown",
   "id": "8afdd625-7689-4b0b-b841-c868c7e057b0",
   "metadata": {
    "id": "9fb19f0d"
   },
   "source": [
    "---\n",
    "\n",
    "### Exercise 12:\n",
    "Assign a boolean value `False` to a variable `is_completed`.\n",
    "\n",
    "```python\n",
    "# Exercise 12\n",
    "```"
   ]
  },
  {
   "cell_type": "code",
   "execution_count": 17,
   "id": "6efce85f-e8c0-4c97-8a61-a18325d210a1",
   "metadata": {},
   "outputs": [
    {
     "name": "stdout",
     "output_type": "stream",
     "text": [
      "False\n"
     ]
    }
   ],
   "source": [
    "is_completed = False\n",
    "print(is_completed)\n"
   ]
  },
  {
   "cell_type": "markdown",
   "id": "13e783e9-9438-4838-ba7e-ce1609f4a908",
   "metadata": {
    "id": "9fb19f0d"
   },
   "source": [
    "---\n",
    "\n",
    "### Exercise 13:\n",
    "Swap the values of two variables `x` and `y`.\n",
    "\n",
    "```python\n",
    "# Exercise 13\n",
    "```"
   ]
  },
  {
   "cell_type": "code",
   "execution_count": 19,
   "id": "4b414102-a8e7-4582-b257-f1a6dcd86894",
   "metadata": {},
   "outputs": [
    {
     "data": {
      "text/plain": [
       "(6, 2)"
      ]
     },
     "execution_count": 19,
     "metadata": {},
     "output_type": "execute_result"
    }
   ],
   "source": [
    "x= 2\n",
    "y= 6\n",
    "\n",
    "x, y = y, x\n",
    "x,y"
   ]
  },
  {
   "cell_type": "markdown",
   "id": "53ac12b5-4be2-4c6b-ae48-93f99e164a25",
   "metadata": {
    "id": "9fb19f0d"
   },
   "source": [
    "---\n",
    "\n",
    "### Exercise 14:\n",
    "Assign a complex number `3 + 4j` to a variable `complex_num`.\n",
    "\n",
    "```python\n",
    "# Exercise 14\n",
    "```"
   ]
  },
  {
   "cell_type": "code",
   "execution_count": 20,
   "id": "ab5e2d26-c8d2-4521-96f7-9821bb3ad8d3",
   "metadata": {},
   "outputs": [
    {
     "data": {
      "text/plain": [
       "complex"
      ]
     },
     "execution_count": 20,
     "metadata": {},
     "output_type": "execute_result"
    }
   ],
   "source": [
    "complex_num = 3 + 4j\n",
    "type(complex_num)"
   ]
  },
  {
   "cell_type": "markdown",
   "id": "b474db52-fa17-4e9e-b7e6-05c0e16cc418",
   "metadata": {
    "id": "9fb19f0d"
   },
   "source": [
    "---\n",
    "\n",
    "### Exercise 15:\n",
    "Reassign a variable from an integer to a string.\n",
    "\n",
    "```python\n",
    "# Exercise 15\n",
    "```"
   ]
  },
  {
   "cell_type": "code",
   "execution_count": 22,
   "id": "73780b51-5b60-4e6e-ad39-56623a70be10",
   "metadata": {},
   "outputs": [
    {
     "data": {
      "text/plain": [
       "str"
      ]
     },
     "execution_count": 22,
     "metadata": {},
     "output_type": "execute_result"
    }
   ],
   "source": [
    "a = 23\n",
    "a = str(a)\n",
    "type(a)"
   ]
  },
  {
   "cell_type": "markdown",
   "id": "af67573f-d6e8-4935-959c-45546e690444",
   "metadata": {
    "id": "9fb19f0d"
   },
   "source": [
    "---\n",
    "\n",
    "### Exercise 16:\n",
    "Create two variables `first_name` and `last_name`, and assign them your first and last names.\n",
    "\n",
    "```python\n",
    "# Exercise 16\n",
    "```"
   ]
  },
  {
   "cell_type": "code",
   "execution_count": 23,
   "id": "70856e65-6810-422d-87af-208004a3ae35",
   "metadata": {},
   "outputs": [
    {
     "name": "stdout",
     "output_type": "stream",
     "text": [
      "Benitha Mukatwizeyimana\n"
     ]
    }
   ],
   "source": [
    "first_name = \"Benitha\"\n",
    "last_name = \"Mukatwizeyimana\"\n",
    "print(first_name, last_name) "
   ]
  },
  {
   "cell_type": "markdown",
   "id": "a5a5638c-4530-400a-9094-07ba53c20387",
   "metadata": {
    "id": "9fb19f0d"
   },
   "source": [
    "---\n",
    "\n",
    "### Exercise 17:\n",
    "Create a variable `temperature` and assign it the value of `35.5`.\n",
    "\n",
    "```python\n",
    "# Exercise 17\n",
    "```"
   ]
  },
  {
   "cell_type": "code",
   "execution_count": null,
   "id": "206372c8-f9a2-47e4-bb05-c756badf1c7d",
   "metadata": {},
   "outputs": [],
   "source": [
    "temperature = 35.5"
   ]
  },
  {
   "cell_type": "markdown",
   "id": "63b05b70-820d-4cb2-bc7b-2d1e1a378db0",
   "metadata": {
    "id": "9fb19f0d"
   },
   "source": [
    "---\n",
    "\n",
    "### Exercise 18:\n",
    "Assign the result of the multiplication of two numbers `8 * 6` to a variable `product`.\n",
    "\n",
    "```python\n",
    "# Exercise 18\n",
    "```"
   ]
  },
  {
   "cell_type": "code",
   "execution_count": null,
   "id": "c843787f-ba52-4450-82d3-ee869810d8a6",
   "metadata": {},
   "outputs": [],
   "source": [
    "product = 8 * 6"
   ]
  },
  {
   "cell_type": "markdown",
   "id": "f83289f7-467c-4231-90bf-76c2b666444b",
   "metadata": {
    "id": "9fb19f0d"
   },
   "source": [
    "---\n",
    "\n",
    "### Exercise 19:\n",
    "Assign a sentence of your choice to a variable `sentence`.\n",
    "\n",
    "```python\n",
    "# Exercise 19\n",
    "```"
   ]
  },
  {
   "cell_type": "code",
   "execution_count": 24,
   "id": "f1611b6b-67a1-4c38-8c1d-2388e16599fa",
   "metadata": {},
   "outputs": [
    {
     "name": "stdout",
     "output_type": "stream",
     "text": [
      "Hello, World!\n"
     ]
    }
   ],
   "source": [
    "sentence = (\"Hello, World!\")\n",
    "print(sentence)"
   ]
  },
  {
   "cell_type": "markdown",
   "id": "b6418e96-3ec0-4f5c-af61-ee2b24d47c71",
   "metadata": {
    "id": "9fb19f0d"
   },
   "source": [
    "---\n",
    "\n",
    "### Exercise 20:\n",
    "Use an assignment to convert a string `'50'` into an integer variable `int_value`.\n",
    "\n",
    "```python\n",
    "# Exercise 20\n",
    "```"
   ]
  },
  {
   "cell_type": "code",
   "execution_count": 1,
   "id": "9f08703d-9e65-4e06-a035-a091b4bded0d",
   "metadata": {},
   "outputs": [
    {
     "name": "stdout",
     "output_type": "stream",
     "text": [
      "50\n"
     ]
    },
    {
     "data": {
      "text/plain": [
       "int"
      ]
     },
     "execution_count": 1,
     "metadata": {},
     "output_type": "execute_result"
    }
   ],
   "source": [
    "in_value = int(50)\n",
    "print(in_value)\n",
    "type(in_value)"
   ]
  },
  {
   "cell_type": "code",
   "execution_count": null,
   "id": "7348e4a7-f9a4-42f6-9405-3337d5a0bea6",
   "metadata": {
    "id": "9fb19f0d",
    "jp-MarkdownHeadingCollapsed": true
   },
   "outputs": [],
   "source": [
    "---\n",
    "\n",
    "### Exercise 21:\n",
    "Assign the result of dividing `144` by `12` to a variable `quotient`.\n",
    "\n",
    "```python\n",
    "# Exercise 21\n",
    "```"
   ]
  },
  {
   "cell_type": "code",
   "execution_count": 2,
   "id": "efa4a00b-5596-4b18-86d9-a1eb01d5e7ae",
   "metadata": {},
   "outputs": [
    {
     "name": "stdout",
     "output_type": "stream",
     "text": [
      "12.0\n"
     ]
    }
   ],
   "source": [
    "quotient = 144 / 12\n",
    "print(quotient)"
   ]
  },
  {
   "cell_type": "code",
   "execution_count": null,
   "id": "e811e238-db6f-4293-a4af-0b053e70887f",
   "metadata": {
    "id": "9fb19f0d",
    "jp-MarkdownHeadingCollapsed": true
   },
   "outputs": [],
   "source": [
    "---\n",
    "\n",
    "### Exercise 22:\n",
    "Assign the remainder of `47 divided by 5` to a variable `remainder`.\n",
    "\n",
    "```python\n",
    "# Exercise 22\n",
    "```"
   ]
  },
  {
   "cell_type": "code",
   "execution_count": 5,
   "id": "4573e0ed-43d5-4b34-b9d7-2d7286c4c859",
   "metadata": {},
   "outputs": [
    {
     "name": "stdout",
     "output_type": "stream",
     "text": [
      "2\n"
     ]
    }
   ],
   "source": [
    "remainder = 47 % 5\n",
    "print(remainder)"
   ]
  },
  {
   "cell_type": "code",
   "execution_count": null,
   "id": "faed1400-5191-4bd7-8780-1516176e3ad9",
   "metadata": {
    "id": "9fb19f0d",
    "jp-MarkdownHeadingCollapsed": true
   },
   "outputs": [],
   "source": [
    "---\n",
    "\n",
    "### Exercise 23:\n",
    "Create a variable `is_student` and assign it the value `True`.\n",
    "\n",
    "```python\n",
    "# Exercise 23\n",
    "```"
   ]
  },
  {
   "cell_type": "code",
   "execution_count": 7,
   "id": "cf7cd351-8655-41ee-8c61-d4d6446803c3",
   "metadata": {},
   "outputs": [
    {
     "name": "stdout",
     "output_type": "stream",
     "text": [
      "True\n"
     ]
    }
   ],
   "source": [
    "is_student = True\n",
    "print(is_student)\n"
   ]
  },
  {
   "cell_type": "code",
   "execution_count": null,
   "id": "a735925f-3de9-4e60-9377-a2815dfdb178",
   "metadata": {
    "id": "9fb19f0d",
    "jp-MarkdownHeadingCollapsed": true
   },
   "outputs": [],
   "source": [
    "---\n",
    "\n",
    "### Exercise 24:\n",
    "Use a variable to store the result of a modulo operation: `45 % 4`.\n",
    "\n",
    "```python\n",
    "# Exercise 24\n",
    "```"
   ]
  },
  {
   "cell_type": "code",
   "execution_count": 8,
   "id": "32fa43b4-c21d-4f19-b288-1957dcc5a769",
   "metadata": {},
   "outputs": [
    {
     "name": "stdout",
     "output_type": "stream",
     "text": [
      "1\n"
     ]
    }
   ],
   "source": [
    "modu_result =  45 % 4\n",
    "print(modu_result)"
   ]
  },
  {
   "cell_type": "code",
   "execution_count": null,
   "id": "0455d4ad-2367-4630-8206-a06fc459c57c",
   "metadata": {
    "id": "9fb19f0d",
    "jp-MarkdownHeadingCollapsed": true
   },
   "outputs": [],
   "source": [
    "---\n",
    "\n",
    "### Exercise 25:\n",
    "Create a variable `pi` and assign it the value `3.14159`.\n",
    "\n",
    "```python\n",
    "# Exercise 25\n",
    "```"
   ]
  },
  {
   "cell_type": "code",
   "execution_count": 9,
   "id": "cedf38c5-cece-4f42-a70b-b0d0f9b1d3a7",
   "metadata": {},
   "outputs": [
    {
     "name": "stdout",
     "output_type": "stream",
     "text": [
      "3.14159\n"
     ]
    },
    {
     "data": {
      "text/plain": [
       "float"
      ]
     },
     "execution_count": 9,
     "metadata": {},
     "output_type": "execute_result"
    }
   ],
   "source": [
    "pi = 3.14159\n",
    "print(pi)\n",
    "type(pi)"
   ]
  },
  {
   "cell_type": "code",
   "execution_count": null,
   "id": "ae04a7d2-70f2-445b-ac48-3037560acc8e",
   "metadata": {
    "id": "9fb19f0d",
    "jp-MarkdownHeadingCollapsed": true
   },
   "outputs": [],
   "source": [
    "---\n",
    "\n",
    "### Exercise 26:\n",
    "Create two variables `length` and `width`, assign them values, and calculate the area of a rectangle.\n",
    "\n",
    "```python\n",
    "# Exercise 26\n",
    "```"
   ]
  },
  {
   "cell_type": "code",
   "execution_count": 12,
   "id": "301ca9aa-f730-4094-8a0f-133015bd1830",
   "metadata": {},
   "outputs": [
    {
     "name": "stdout",
     "output_type": "stream",
     "text": [
      "Area of a rectangle: 408\n"
     ]
    }
   ],
   "source": [
    "length = 34\n",
    "width = 12\n",
    "area = length * width\n",
    "print(\"Area of a rectangle:\", area)"
   ]
  },
  {
   "cell_type": "code",
   "execution_count": null,
   "id": "a8acf64c-a4c0-4a34-983c-f2203bba8704",
   "metadata": {
    "id": "9fb19f0d",
    "jp-MarkdownHeadingCollapsed": true
   },
   "outputs": [],
   "source": [
    "\n",
    "\n",
    "---\n",
    "\n",
    "### Exercise 27:\n",
    "Assign a negative number to a variable `negative_value`.\n",
    "\n",
    "```python\n",
    "# Exercise 27\n",
    "```"
   ]
  },
  {
   "cell_type": "code",
   "execution_count": 14,
   "id": "74ee3031-5d38-4727-baba-4c73bdaea51b",
   "metadata": {},
   "outputs": [
    {
     "name": "stdout",
     "output_type": "stream",
     "text": [
      "-6\n",
      "<class 'int'>\n"
     ]
    }
   ],
   "source": [
    "negative_value = -6\n",
    "print(negative_value)\n",
    "print(type(negative_value))"
   ]
  },
  {
   "cell_type": "code",
   "execution_count": null,
   "id": "ab6588b3-5461-4022-b00f-234f508c5adb",
   "metadata": {
    "id": "9fb19f0d",
    "jp-MarkdownHeadingCollapsed": true
   },
   "outputs": [],
   "source": [
    "---\n",
    "\n",
    "### Exercise 28:\n",
    "Assign a string containing a special character (e.g., \"Hello, World!\") to a variable `greeting`.\n",
    "\n",
    "```python\n",
    "# Exercise 28\n",
    "```"
   ]
  },
  {
   "cell_type": "code",
   "execution_count": 16,
   "id": "c284a2a4-7074-4ab1-8fcb-56c7ffbb6494",
   "metadata": {},
   "outputs": [
    {
     "name": "stdout",
     "output_type": "stream",
     "text": [
      "Hello, World!\n"
     ]
    }
   ],
   "source": [
    "greeting = (\"Hello, World!\")\n",
    "print(greeting)"
   ]
  },
  {
   "cell_type": "code",
   "execution_count": null,
   "id": "7d3027f9-4d0d-473b-8770-069467091949",
   "metadata": {
    "id": "9fb19f0d",
    "jp-MarkdownHeadingCollapsed": true
   },
   "outputs": [],
   "source": [
    "---\n",
    "\n",
    "### Exercise 29:\n",
    "Create a variable `population` and assign it a large integer value (in billions).\n",
    "\n",
    "```python\n",
    "# Exercise 29\n",
    "```"
   ]
  },
  {
   "cell_type": "code",
   "execution_count": 17,
   "id": "f853bc23-2093-484a-848c-12dbdc72196d",
   "metadata": {},
   "outputs": [
    {
     "name": "stdout",
     "output_type": "stream",
     "text": [
      "3000000000\n"
     ]
    },
    {
     "data": {
      "text/plain": [
       "int"
      ]
     },
     "execution_count": 17,
     "metadata": {},
     "output_type": "execute_result"
    }
   ],
   "source": [
    "population = 3000000000\n",
    "print(population)\n",
    "type(population)"
   ]
  },
  {
   "cell_type": "code",
   "execution_count": null,
   "id": "3825e607-6618-4911-9957-da95661ac8b5",
   "metadata": {
    "id": "9fb19f0d",
    "jp-MarkdownHeadingCollapsed": true
   },
   "outputs": [],
   "source": [
    "---\n",
    "\n",
    "### Exercise 30:\n",
    "Use a variable to store the result of raising `2` to the power of `8`.\n",
    "\n",
    "```python\n",
    "# Exercise 30\n",
    "```"
   ]
  },
  {
   "cell_type": "code",
   "execution_count": 18,
   "id": "a3ecf0f8-acef-4e40-bf07-be7f46a81481",
   "metadata": {},
   "outputs": [
    {
     "name": "stdout",
     "output_type": "stream",
     "text": [
      "256\n"
     ]
    }
   ],
   "source": [
    "power_result = 2 ** 8\n",
    "print(power_result)"
   ]
  },
  {
   "cell_type": "code",
   "execution_count": null,
   "id": "aca84bee-9c9a-46f2-895e-81bc97104aaa",
   "metadata": {
    "id": "9fb19f0d",
    "jp-MarkdownHeadingCollapsed": true
   },
   "outputs": [],
   "source": [
    "---\n",
    "\n",
    "### Exercise 31:\n",
    "Assign a list of your favorite fruits to a variable `fruits`.\n",
    "\n",
    "```python\n",
    "# Exercise 31\n",
    "```"
   ]
  },
  {
   "cell_type": "code",
   "execution_count": null,
   "id": "93786da3-02ba-4eae-967a-3671550b3af0",
   "metadata": {},
   "outputs": [],
   "source": []
  },
  {
   "cell_type": "code",
   "execution_count": null,
   "id": "7fef79af-0f3e-4c0b-881f-8898b6c7cac0",
   "metadata": {
    "id": "9fb19f0d",
    "jp-MarkdownHeadingCollapsed": true
   },
   "outputs": [],
   "source": [
    "---\n",
    "\n",
    "### Exercise 32:\n",
    "Assign a tuple of three numbers to a variable `coordinates`.\n",
    "\n",
    "```python\n",
    "# Exercise 32\n",
    "```"
   ]
  },
  {
   "cell_type": "code",
   "execution_count": null,
   "id": "94c06007-fc2d-48a7-8a7c-46faff35282d",
   "metadata": {},
   "outputs": [],
   "source": []
  },
  {
   "cell_type": "code",
   "execution_count": null,
   "id": "5c08c09d-ad3e-409c-b101-3ef1bb3c5ebe",
   "metadata": {
    "id": "9fb19f0d",
    "jp-MarkdownHeadingCollapsed": true
   },
   "outputs": [],
   "source": [
    "---\n",
    "\n",
    "### Exercise 33:\n",
    "Assign a dictionary with keys `name` and `age` to a variable `person`.\n",
    "\n",
    "```python\n",
    "# Exercise 33\n",
    "```"
   ]
  },
  {
   "cell_type": "code",
   "execution_count": null,
   "id": "11880bae-1378-42fb-a00f-882f629517ae",
   "metadata": {},
   "outputs": [],
   "source": []
  },
  {
   "cell_type": "code",
   "execution_count": null,
   "id": "604dc4f8-24d8-4aa0-9ca9-42c7ba344954",
   "metadata": {
    "id": "9fb19f0d",
    "jp-MarkdownHeadingCollapsed": true
   },
   "outputs": [],
   "source": [
    "---\n",
    "\n",
    "### Exercise 34:\n",
    "Use variables to store the sum of two floating-point numbers.\n",
    "\n",
    "```python\n",
    "# Exercise 34\n",
    "```"
   ]
  },
  {
   "cell_type": "code",
   "execution_count": 19,
   "id": "1f6ad729-e110-4deb-8e26-8bcb2bce9708",
   "metadata": {},
   "outputs": [
    {
     "name": "stdout",
     "output_type": "stream",
     "text": [
      "5.84\n"
     ]
    }
   ],
   "source": [
    "a = 3.52\n",
    "b = 2.32\n",
    "sum = a + b\n",
    "print(sum)"
   ]
  },
  {
   "cell_type": "code",
   "execution_count": null,
   "id": "11a0182d-162a-4f54-8ba9-5df005b6f2e0",
   "metadata": {
    "id": "9fb19f0d",
    "jp-MarkdownHeadingCollapsed": true
   },
   "outputs": [],
   "source": [
    "---\n",
    "\n",
    "### Exercise 35:\n",
    "Create a variable `is_sunny` and assign it the result of a comparison `10 > 5`.\n",
    "\n",
    "```python\n",
    "# Exercise 35\n",
    "```"
   ]
  },
  {
   "cell_type": "code",
   "execution_count": 20,
   "id": "63af55f7-d43a-4e8e-8edf-29f3e138ac18",
   "metadata": {},
   "outputs": [
    {
     "name": "stdout",
     "output_type": "stream",
     "text": [
      "True\n"
     ]
    }
   ],
   "source": [
    "k = 5\n",
    "h = 10\n",
    "is_sunny = h > k\n",
    "print(is_sunny)"
   ]
  },
  {
   "cell_type": "code",
   "execution_count": null,
   "id": "45a7f236-ae32-42bc-a0cc-af78bca8e5ee",
   "metadata": {},
   "outputs": [],
   "source": []
  },
  {
   "cell_type": "code",
   "execution_count": null,
   "id": "875e35fb-5460-489d-99b3-e6a4a338bde5",
   "metadata": {
    "id": "9fb19f0d",
    "jp-MarkdownHeadingCollapsed": true
   },
   "outputs": [],
   "source": [
    "---\n",
    "\n",
    "### Exercise 36:\n",
    "Assign a string and an integer to two different variables, then print both on one line.\n",
    "\n",
    "```python\n",
    "# Exercise 36\n",
    "```"
   ]
  },
  {
   "cell_type": "code",
   "execution_count": 22,
   "id": "24727cf5-c6f8-4e47-bf3d-6434c7b2e34c",
   "metadata": {},
   "outputs": [
    {
     "name": "stdout",
     "output_type": "stream",
     "text": [
      "2 Mango\n"
     ]
    }
   ],
   "source": [
    "m = 2\n",
    "n =\"Mango\"\n",
    "print(m, n)"
   ]
  },
  {
   "cell_type": "code",
   "execution_count": null,
   "id": "8e6bfb07-40d7-42ef-8d44-8637b095804b",
   "metadata": {
    "id": "9fb19f0d",
    "jp-MarkdownHeadingCollapsed": true
   },
   "outputs": [],
   "source": [
    "---\n",
    "\n",
    "### Exercise 37:\n",
    "Reassign a variable that originally held a number to a boolean value.\n",
    "\n",
    "```python\n",
    "# Exercise 37\n",
    "```"
   ]
  },
  {
   "cell_type": "code",
   "execution_count": 23,
   "id": "15dead40-08cf-45aa-808a-fb7a49506b6a",
   "metadata": {},
   "outputs": [
    {
     "name": "stdout",
     "output_type": "stream",
     "text": [
      "True\n"
     ]
    }
   ],
   "source": [
    "value = 10\n",
    "value = True\n",
    "print(value)"
   ]
  },
  {
   "cell_type": "code",
   "execution_count": null,
   "id": "c506d81d-2be7-407c-854f-d5e5e60ec8f6",
   "metadata": {
    "id": "9fb19f0d",
    "jp-MarkdownHeadingCollapsed": true
   },
   "outputs": [],
   "source": [
    "---\n",
    "\n",
    "### Exercise 38:\n",
    "Create a variable `is_weekend` and assign it the result of `False`.\n",
    "\n",
    "```python\n",
    "# Exercise 38\n",
    "```"
   ]
  },
  {
   "cell_type": "code",
   "execution_count": 24,
   "id": "032b18b4-f3c8-42d3-a350-4881ce0fdc71",
   "metadata": {},
   "outputs": [
    {
     "name": "stdout",
     "output_type": "stream",
     "text": [
      "False\n"
     ]
    }
   ],
   "source": [
    "is_weekend = False\n",
    "print(is_weekend)"
   ]
  },
  {
   "cell_type": "code",
   "execution_count": null,
   "id": "5869c5fb-d294-448f-a6d1-2404acc2a585",
   "metadata": {
    "id": "9fb19f0d",
    "jp-MarkdownHeadingCollapsed": true
   },
   "outputs": [],
   "source": [
    "---\n",
    "\n",
    "### Exercise 39:\n",
    "Assign a multi-line string to a variable `description`.\n",
    "\n",
    "```python\n",
    "# Exercise 39\n",
    "```"
   ]
  },
  {
   "cell_type": "code",
   "execution_count": 25,
   "id": "f5ec332e-8534-403d-90b4-0551a9ff279b",
   "metadata": {},
   "outputs": [
    {
     "name": "stdout",
     "output_type": "stream",
     "text": [
      " Today is good.\n",
      "The sun is shining.\n",
      "I am learning Python.\n"
     ]
    }
   ],
   "source": [
    "description = \"\"\" Today is a good day.\n",
    "The sun is shining.\n",
    "I am learning Python.\"\"\"\n",
    "print(description)"
   ]
  },
  {
   "cell_type": "code",
   "execution_count": null,
   "id": "57f477b2-69c5-4f4e-bdc5-c86d863d6670",
   "metadata": {},
   "outputs": [],
   "source": []
  },
  {
   "cell_type": "code",
   "execution_count": null,
   "id": "c4de548f-38cb-4be2-a848-9535961f7b93",
   "metadata": {
    "id": "9fb19f0d",
    "jp-MarkdownHeadingCollapsed": true
   },
   "outputs": [],
   "source": [
    "---\n",
    "\n",
    "### Exercise 40:\n",
    "Use variables to store the result of the absolute value of `-25`.\n",
    "\n",
    "```python\n",
    "# Exercise 40\n",
    "```"
   ]
  },
  {
   "cell_type": "code",
   "execution_count": 29,
   "id": "8e5e06c0-bc50-457a-920c-8baf14c1bc02",
   "metadata": {},
   "outputs": [
    {
     "name": "stdout",
     "output_type": "stream",
     "text": [
      "25\n"
     ]
    }
   ],
   "source": [
    "x = abs(-25)\n",
    "print(x)\n"
   ]
  },
  {
   "cell_type": "code",
   "execution_count": null,
   "id": "64261a6b-389f-467f-9c93-765624ad6ff9",
   "metadata": {
    "id": "9fb19f0d",
    "jp-MarkdownHeadingCollapsed": true
   },
   "outputs": [],
   "source": [
    "---\n",
    "\n",
    "### Exercise 41:\n",
    "Assign the result of a floor division `100 // 6` to a variable `floor_div_result`.\n",
    "\n",
    "```python\n",
    "# Exercise 41\n",
    "```"
   ]
  },
  {
   "cell_type": "code",
   "execution_count": 30,
   "id": "12491624-ce86-478e-b406-89b2f05a94c4",
   "metadata": {},
   "outputs": [
    {
     "name": "stdout",
     "output_type": "stream",
     "text": [
      "16\n"
     ]
    }
   ],
   "source": [
    "floor_div_result = 100 // 6\n",
    "print(floor_div_result)"
   ]
  },
  {
   "cell_type": "code",
   "execution_count": null,
   "id": "0be4f6c3-b975-4c14-a5fa-83f154d8933c",
   "metadata": {
    "id": "9fb19f0d",
    "jp-MarkdownHeadingCollapsed": true
   },
   "outputs": [],
   "source": [
    "---\n",
    "\n",
    "### Exercise 42:\n",
    "Assign the result of adding a floating-point number to an integer to a variable `mixed_sum`.\n",
    "\n",
    "```python\n",
    "# Exercise 42\n",
    "```"
   ]
  },
  {
   "cell_type": "code",
   "execution_count": 32,
   "id": "8a867612-4cb8-4dde-a799-8b7e4ddaad24",
   "metadata": {},
   "outputs": [
    {
     "name": "stdout",
     "output_type": "stream",
     "text": [
      "6.23\n"
     ]
    }
   ],
   "source": [
    "\n",
    "mixed_sum = 1.23 + 5\n",
    "print(mixed_sum)\n",
    "\n",
    "\n"
   ]
  },
  {
   "cell_type": "markdown",
   "id": "6fc1e014-ab88-4dc6-b257-be56d55e402c",
   "metadata": {
    "id": "9fb19f0d"
   },
   "source": [
    "---\n",
    "\n",
    "\n",
    "### Exercise 43:\n",
    "Assign a boolean value based on the comparison of two variables `a = 10` and `b = 15`.\n",
    "\n",
    "```python\n",
    "# Exercise 43\n",
    "```"
   ]
  },
  {
   "cell_type": "code",
   "execution_count": 38,
   "id": "c36c2c48-ba81-49d9-ba5a-3561abf337c8",
   "metadata": {},
   "outputs": [
    {
     "name": "stdout",
     "output_type": "stream",
     "text": [
      "True\n"
     ]
    }
   ],
   "source": [
    "a = 10\n",
    "b = 15\n",
    "is_small = a < b\n",
    "print(is_small)\n"
   ]
  },
  {
   "cell_type": "markdown",
   "id": "4d473278-5388-4612-b199-f7a7f2ba2e67",
   "metadata": {
    "id": "9fb19f0d"
   },
   "source": [
    "---\n",
    "\n",
    "### Exercise 44:\n",
    "Assign a long sentence to a variable and count its characters using `len()`.\n",
    "\n",
    "```python\n",
    "# Exercise 44\n",
    "```"
   ]
  },
  {
   "cell_type": "code",
   "execution_count": 42,
   "id": "0bd02cd2-0b4b-4a25-a444-b86feacc847d",
   "metadata": {},
   "outputs": [
    {
     "name": "stdout",
     "output_type": "stream",
     "text": [
      "sentence: Python is the powerfull programming language. \n",
      "Number of character: 46\n"
     ]
    }
   ],
   "source": [
    "sentence = \"Python is the powerfull programming language. \"\n",
    "count = len(sentence)\n",
    "print(\"sentence:\", sentence)\n",
    "print(\"Number of character:\", count)"
   ]
  },
  {
   "cell_type": "markdown",
   "id": "a2fb507d-cf5e-46f0-89b0-38d82fe8d318",
   "metadata": {
    "id": "9fb19f0d"
   },
   "source": [
    "---\n",
    "\n",
    "### Exercise 45:\n",
    "Assign a fractional result `7 / 3` to a variable `division_result`.\n",
    "\n",
    "```python\n",
    "# Exercise 45\n",
    "```"
   ]
  },
  {
   "cell_type": "code",
   "execution_count": 43,
   "id": "82ca7341-5484-4daa-a09e-b91512d529b8",
   "metadata": {},
   "outputs": [
    {
     "name": "stdout",
     "output_type": "stream",
     "text": [
      "2.3333333333333335\n"
     ]
    }
   ],
   "source": [
    "division_result = 7 / 3\n",
    "print(division_result)"
   ]
  },
  {
   "cell_type": "code",
   "execution_count": null,
   "id": "edd7a4ca-855d-449c-a203-ee761f42b042",
   "metadata": {
    "id": "9fb19f0d"
   },
   "outputs": [],
   "source": [
    "---\n",
    "\n",
    "### Exercise 46:\n",
    "Create a variable `speed` and assign it the value of 100 kilometers per hour.\n",
    "\n",
    "```python\n",
    "# Exercise 46\n",
    "```"
   ]
  },
  {
   "cell_type": "code",
   "execution_count": 47,
   "id": "bc67a0d2-2147-46d7-970e-30def71fddf3",
   "metadata": {},
   "outputs": [
    {
     "name": "stdout",
     "output_type": "stream",
     "text": [
      "100 km/h\n"
     ]
    }
   ],
   "source": [
    "speed = 100 \n",
    "\n",
    "print(speed, \"km/h\")"
   ]
  },
  {
   "cell_type": "markdown",
   "id": "6d1e101a-c0a7-4728-8257-cd76d47c4199",
   "metadata": {
    "id": "9fb19f0d"
   },
   "source": [
    "---\n",
    "\n",
    "### Exercise 47:\n",
    "Assign a multi-variable equation like `y = 3x + 5` where `x = 4` to a variable `y`.\n",
    "\n",
    "```python\n",
    "# Exercise 47\n",
    "```"
   ]
  },
  {
   "cell_type": "code",
   "execution_count": 49,
   "id": "498a90ba-320b-4fee-8561-2d19240408f4",
   "metadata": {},
   "outputs": [
    {
     "name": "stdout",
     "output_type": "stream",
     "text": [
      "17\n"
     ]
    }
   ],
   "source": [
    "x = 4\n",
    "y = 3*x + 5\n",
    "print(y)"
   ]
  },
  {
   "cell_type": "markdown",
   "id": "0c3350bd-8e61-4096-a25b-f549370bc377",
   "metadata": {
    "id": "9fb19f0d"
   },
   "source": [
    "---\n",
    "\n",
    "### Exercise 48:\n",
    "Use variables to calculate and store the average of three numbers.\n",
    "\n",
    "```python\n",
    "# Exercise 48\n",
    "```\n",
    "\n",
    "****"
   ]
  },
  {
   "cell_type": "code",
   "execution_count": 52,
   "id": "76b885fc-cd3b-4a6a-9e6a-92f4a10bc60e",
   "metadata": {},
   "outputs": [
    {
     "name": "stdout",
     "output_type": "stream",
     "text": [
      "38.333333333333336\n"
     ]
    }
   ],
   "source": [
    "x = 20\n",
    "y = 50\n",
    "z = 45\n",
    "average = (x + y + z) / 3\n",
    "print(average)"
   ]
  },
  {
   "cell_type": "code",
   "execution_count": null,
   "id": "3efa3ceb-3af5-4e3e-a239-5e5ce7530513",
   "metadata": {},
   "outputs": [],
   "source": []
  }
 ],
 "metadata": {
  "colab": {
   "provenance": []
  },
  "kernelspec": {
   "display_name": "Python 3 (ipykernel)",
   "language": "python",
   "name": "python3"
  },
  "language_info": {
   "codemirror_mode": {
    "name": "ipython",
    "version": 3
   },
   "file_extension": ".py",
   "mimetype": "text/x-python",
   "name": "python",
   "nbconvert_exporter": "python",
   "pygments_lexer": "ipython3",
   "version": "3.13.5"
  }
 },
 "nbformat": 4,
 "nbformat_minor": 5
}
